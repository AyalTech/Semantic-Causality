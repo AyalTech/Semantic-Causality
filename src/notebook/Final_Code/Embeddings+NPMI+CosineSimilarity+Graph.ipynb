{
 "cells": [
  {
   "cell_type": "code",
   "execution_count": 1,
   "metadata": {},
   "outputs": [],
   "source": [
    "from gensim.models import KeyedVectors\n",
    "import csv\n",
    "import pandas as pd\n",
    "from sklearn.metrics.pairwise import cosine_similarity\n",
    "import numpy as np\n",
    "import igraph\n",
    "from gensim.test.utils import datapath"
   ]
  },
  {
   "cell_type": "markdown",
   "metadata": {},
   "source": [
    "### Get The embeddings"
   ]
  },
  {
   "cell_type": "code",
   "execution_count": 3,
   "metadata": {},
   "outputs": [],
   "source": [
    "wv_from_text_PMC = KeyedVectors.load_word2vec_format(\"../../../../../data/PMC/wikipedia-pubmed-and-PMC-w2v.bin\", binary=True)\n",
    "wv_from_text_GV  = KeyedVectors.load_word2vec_format(\"../../../../../data/Glove_Gigaword/model.txt\", binary=False)\n",
    "wv_from_text_GM  = KeyedVectors.load_word2vec_format(\"../../../../../data/Gensim_wiki/model.txt\", binary=False)\n",
    "wv_from_text_FT  = KeyedVectors.load_word2vec_format(\"../../../../../data/FastText_wiki/model.txt\", binary=False)"
   ]
  },
  {
   "cell_type": "code",
   "execution_count": 4,
   "metadata": {},
   "outputs": [],
   "source": [
    "nb_top_terms=20"
   ]
  },
  {
   "cell_type": "markdown",
   "metadata": {},
   "source": [
    "### Cosine for n-top terms with the NPMI"
   ]
  },
  {
   "cell_type": "code",
   "execution_count": 5,
   "metadata": {},
   "outputs": [],
   "source": [
    "def cosineSimilarity(f,model):\n",
    "    topterms=['']*nb_top_terms\n",
    "    i=0\n",
    "    with open(f) as csvDataFile:\n",
    "        csvReader = csv.reader(csvDataFile)\n",
    "        for row in csvReader:\n",
    "            if(i<nb_top_terms):\n",
    "                #print(row[0])\n",
    "                topterms[i]=row[0]\n",
    "                i=i+1\n",
    "           \n",
    "            \n",
    "    #print(topterms)\n",
    "    newtopterms=['']*len(topterms)\n",
    "    i=0\n",
    "    for w in topterms:\n",
    "        if (w not in model.vocab):\n",
    "             for v in model.vocab:\n",
    "                if ((w in v)and (w[0]==v[0]) and (w[1]==v[1])):\n",
    "                    newtopterms[i]=v\n",
    "                    #print(newtopterms[i])\n",
    "                    break\n",
    "\n",
    "        else:\n",
    "            newtopterms[i]=w\n",
    "            #print(newtopterms[i])\n",
    "\n",
    "        i=i+1\n",
    "\n",
    "    #print(newtopterms)\n",
    "    terms=[]\n",
    "    for w in newtopterms:\n",
    "        if not(w==''):\n",
    "            terms.append(w)\n",
    "    \n",
    "    print(len(terms))\n",
    "    print(terms)\n",
    "    rows = []\n",
    "\n",
    "    for w in terms:\n",
    "        for ww in terms:\n",
    "            if(w == ww): rows.append(dict(w1=w, w2=ww, d= 0))\n",
    "            else :\n",
    "                rows.append(dict(w1=w, w2=ww, d=model.similarity(w, ww)))\n",
    "    #Compute the cosin similarity matrix \n",
    "    CosineMatrix = pd.DataFrame(rows).pivot(\"w1\", \"w2\", \"d\")\n",
    "    return CosineMatrix"
   ]
  },
  {
   "cell_type": "code",
   "execution_count": 48,
   "metadata": {},
   "outputs": [
    {
     "name": "stdout",
     "output_type": "stream",
     "text": [
      "19\n",
      "['otitis', 'infection', 'pneumonia', 'bacterial', 'acute', 'chronic', 'effusion', 'recurrent', 'complication', 'ear', 'influenza', 'pneumococcal', 'cause', 'media', 'hear', 'isolate', 'middle', 'tube', 'vaccine']\n",
      "19\n",
      "['otitis', 'infection', 'pneumonia', 'bacterial', 'acute', 'chronic', 'effusion', 'recurrent', 'complication', 'ear', 'influenza', 'pneumococcal', 'cause', 'media', 'hear', 'isolate', 'middle', 'tube', 'vaccine']\n",
      "19\n",
      "['otitis', 'infection', 'pneumonia', 'bacterial', 'acute', 'chronic', 'effusion', 'recurrent', 'complication', 'ear', 'influenza', 'pneumococcal', 'cause', 'media', 'hear', 'isolate', 'middle', 'tube', 'vaccine']\n",
      "20\n",
      "['otitis', 'infection', 'pneumonia', 'bacterial', 'acute', 'chronic', 'antibiotics', 'effusion', 'recurrent', 'complication', 'ear', 'influenza', 'pneumococcal', 'cause', 'media', 'hear', 'isolate', 'middle', 'tube', 'vaccin']\n"
     ]
    }
   ],
   "source": [
    "f=\"../../../../../data/Palmetto/Npmi_for_graphs/npmi_otitis.csv\"\n",
    "cosine_Glove=cosineSimilarity(f,wv_from_text_GV)\n",
    "cosine_Gensim=cosineSimilarity(f,wv_from_text_GM)\n",
    "cosine_FT=cosineSimilarity(f,wv_from_text_FT)\n",
    "cosine_PMC=cosineSimilarity(f,wv_from_text_PMC)"
   ]
  },
  {
   "cell_type": "code",
   "execution_count": 49,
   "metadata": {},
   "outputs": [],
   "source": [
    "def computeCosine2Vec(v,w):\n",
    "    a = np.array(v)\n",
    "    b = np.array(w)\n",
    "    aa = a.reshape(1,len(v))\n",
    "    ba = b.reshape(1,len(v))\n",
    "    cosim = cosine_similarity(aa, ba)\n",
    "    return cosim[0][0]"
   ]
  },
  {
   "cell_type": "code",
   "execution_count": 50,
   "metadata": {},
   "outputs": [],
   "source": [
    "def computeCosineSimilarities(f,model1,model2,model3,model4):\n",
    "    topterms=['']*nb_top_terms\n",
    "    i=0\n",
    "    with open(f) as csvDataFile:\n",
    "        csvReader = csv.reader(csvDataFile)\n",
    "        for row in csvReader:\n",
    "            if(i<nb_top_terms):\n",
    "                #print(row[0])\n",
    "                topterms[i]=row[0]\n",
    "                i=i+1\n",
    "        \n",
    "    newtopterms=['']*len(topterms)\n",
    "    i=0\n",
    "    for w in topterms:\n",
    "        if(w in model1.vocab)and (w in model2.vocab) and (w in model3.vocab)and (w in model4.vocab):\n",
    "            newtopterms[i]=w\n",
    "            i=i+1\n",
    "        if(w not in model1.vocab):\n",
    "            for v in model1.vocab:\n",
    "                if (w in v)and(w[0]==v[0]):\n",
    "                    if ((v in model2.vocab) and (v in model3.vocab)and (v in model4.vocab)):\n",
    "                        newtopterms[i]=v\n",
    "                        i=i+1\n",
    "                        break\n",
    "\n",
    "    #probleme avec significantli moi je dis on le vire :3\n",
    "    #Compute the cosin similarity matrix     \n",
    "    rows = []\n",
    "    terms=[]\n",
    "    for w in newtopterms:\n",
    "        if not(w==''):\n",
    "            terms.append(w)\n",
    "    \n",
    "    print(len(terms))\n",
    "    print(terms)\n",
    "    \n",
    "    for w in terms:\n",
    "        vect_w=list(model1[w])+list(model2[w])+list(model3[w])+list(model4[w])\n",
    "        for ww in terms:\n",
    "            if(w == ww): rows.append(dict(w1=w, w2=ww, d= 0))\n",
    "            else :\n",
    "                vect_ww= list(model1[ww]) + list(model2[ww]) + list(model3[ww]) + list(model4[ww])\n",
    "                cos=computeCosine2Vec(vect_w,vect_ww)\n",
    "                rows.append(dict(w1=w, w2=ww, d=cos))\n",
    "     \n",
    "    cosindf = pd.DataFrame(rows).pivot(\"w1\", \"w2\", \"d\")\n",
    "    return cosindf"
   ]
  },
  {
   "cell_type": "code",
   "execution_count": 51,
   "metadata": {},
   "outputs": [
    {
     "name": "stdout",
     "output_type": "stream",
     "text": [
      "19\n",
      "['otitis', 'infection', 'pneumonia', 'bacterial', 'acute', 'chronic', 'effusion', 'recurrent', 'complication', 'ear', 'influenza', 'pneumococcal', 'cause', 'media', 'hear', 'isolate', 'middle', 'tube', 'vaccine']\n"
     ]
    }
   ],
   "source": [
    "f=\"../../../../../data/Palmetto/Npmi_for_graphs/npmi_otitis.csv\"\n",
    "cosine_GV_GM_FT_PMC=computeCosineSimilarities(f,wv_from_text_GV,wv_from_text_GM,wv_from_text_FT,wv_from_text_PMC)"
   ]
  },
  {
   "cell_type": "code",
   "execution_count": 52,
   "metadata": {},
   "outputs": [],
   "source": [
    "#il faudra crée un fichier avec la frequence des tops termes pour les noeuds \n",
    "def graphCos(cosindf,pathfile, color):\n",
    "    #Topterms \n",
    "    vect=cosindf.index\n",
    "    topterms=['']*len(vect)\n",
    "    for i in range(len(vect)):\n",
    "        topterms[i]=vect[i]\n",
    "    \n",
    "    #frequences\n",
    "    npmi=[0]*len(topterms)\n",
    "    i=0\n",
    "    with open(pathfile) as csvDataFile:\n",
    "        csvReader = csv.reader(csvDataFile)\n",
    "        for row in csvReader:\n",
    "            if not(len(row)==0):\n",
    "                #print(row[0])\n",
    "                for v in topterms :\n",
    "                    if(row[0] in v)and(row[0][0]==v[0]):\n",
    "                        npmi[i]=float(row[1])\n",
    "                        #print(frequences[i])\n",
    "                        i=i+1\n",
    "                        break\n",
    "\n",
    "    # Make a graph from the adjacency matrix\n",
    "    g = igraph.Graph.Weighted_Adjacency((cosindf.values > 0.3).tolist(), mode = \"undirected\")\n",
    "\n",
    "    # Set words as vertices label\n",
    "    g.vs[\"name\"] = topterms\n",
    "    g.vs[\"label\"] = g.vs[\"name\"]\n",
    "    g.vs[\"color\"] = color\n",
    "\n",
    "    # Set size as vertices size by frequence of term in documents\n",
    "    size_vertex =npmi \n",
    "    #print(npmi)\n",
    "    #normalize the vectors\n",
    "    size_vertex_norm =npmi*10000\n",
    "    #[float(i)/(sum(size_vertex) - size_vertex[0])*800  for i in size_vertex]\n",
    "    g.vs[\"size\"] = size_vertex_norm\n",
    "\n",
    "    # Set cosine similarity as edge width\n",
    "    edge_w = [0]*len(g.get_edgelist())\n",
    "    \n",
    "    for ie, (i,j) in enumerate(g.get_edgelist()):\n",
    "        if i == j:\n",
    "            edge_w[ie] = 0\n",
    "        else:\n",
    "            edge_w[ie] = (cosindf.iloc[i][j] + 2)\n",
    "    edge_w_color = [\"\"]*len(g.get_edgelist())\n",
    "    #il faut trouver un moyen de trouver les intervalles automatiquement\n",
    "    for ie, edge_value in enumerate(edge_w):\n",
    "        if (edge_value > 2.4):\n",
    "            edge_w_color[ie] = \"#126600\" \n",
    "        elif (edge_value > 2.35 and edge_value < 2.4):\n",
    "            edge_w_color[ie] = \"#25cc00\"\n",
    "        else:\n",
    "            edge_w_color[ie] = \"#2eff00\"\n",
    "\n",
    "    g.es[\"weight\"] = edge_w\n",
    "    g.es[\"width\"] = g.es[\"weight\"]\n",
    "    g.es[\"color\"] = edge_w_color\n",
    "\n",
    "    return g"
   ]
  },
  {
   "cell_type": "code",
   "execution_count": 53,
   "metadata": {},
   "outputs": [],
   "source": [
    "# Variables correspondant aux couleurs des noeuds\n",
    "# A modifier si besoin\n",
    "colorNodeEmbeddingBasic = '#fbff28' #jaune\n",
    "colorNodePMC = '#ff0000' #rouge\n",
    "colorNodeGlove = '#287eff' #bleue\n",
    "colorNodeFastText = '#d000f9' #violet\n",
    "colorNodeGensim = '#f2b204' #orange"
   ]
  },
  {
   "cell_type": "code",
   "execution_count": 55,
   "metadata": {},
   "outputs": [
    {
     "name": "stdout",
     "output_type": "stream",
     "text": [
      "IGRAPH UNW- 19 63 -- \n",
      "+ attr: color (v), label (v), name (v), size (v), color (e), weight (e), width (e)\n"
     ]
    }
   ],
   "source": [
    "#il va falloir enregistrer le mot est sa frequence pour verifier si le mot n'a pas était viré\n",
    "g = graphCos(cosine_GV_GM_FT_PMC,'../../../../../data/Palmetto/Npmi_for_graphs/npmi_otitis.csv', colorNodeEmbeddingBasic)\n",
    "# plot the graph\n",
    "igraph.summary(g)\n",
    "out = igraph.plot(g, margin= 50, bbox = (700,700))\n",
    "out.save('../../../../../output_Graph/troisiemeversion/Graph_All_embeddings_otitis.png')"
   ]
  },
  {
   "cell_type": "code",
   "execution_count": 54,
   "metadata": {},
   "outputs": [
    {
     "name": "stdout",
     "output_type": "stream",
     "text": [
      "IGRAPH UNW- 19 63 -- \n",
      "+ attr: color (v), label (v), name (v), size (v), color (e), weight (e), width (e)\n"
     ]
    }
   ],
   "source": [
    "#il va falloir enregistrer le mot est sa frequence pour verifier si le mot n'a pas était viré\n",
    "g = graphCos(cosine_GV_GM_FT_PMC,'../../../../../data/Palmetto/Npmi_for_graphs/npmi_otitis.csv', colorNodeEmbeddingBasic)\n",
    "# plot the graph\n",
    "igraph.summary(g)\n",
    "out = igraph.plot(g, margin= 50, bbox = (700,700))\n",
    "out.save('../../../../../output_Graph/troisiemeversion/Graph_All_embeddings_otitis.png')"
   ]
  },
  {
   "cell_type": "code",
   "execution_count": 56,
   "metadata": {},
   "outputs": [
    {
     "name": "stdout",
     "output_type": "stream",
     "text": [
      "IGRAPH UNW- 19 60 -- \n",
      "+ attr: color (v), label (v), name (v), size (v), color (e), weight (e), width (e)\n"
     ]
    }
   ],
   "source": [
    "#il va falloir enregistrer le mot est sa frequence pour verifier si le mot n'a pas était viré\n",
    "g = graphCos(cosine_Glove,'../../../../../data/Palmetto/Npmi_for_graphs/npmi_otitis.csv', colorNodeGlove)\n",
    "# plot the graph\n",
    "igraph.summary(g)\n",
    "out = igraph.plot(g, margin= 50, bbox = (700,700))\n",
    "out.save('../../../../../output_Graph/troisiemeversion/Graph_GV_embeddings_otitis.png')"
   ]
  },
  {
   "cell_type": "code",
   "execution_count": 57,
   "metadata": {},
   "outputs": [
    {
     "name": "stdout",
     "output_type": "stream",
     "text": [
      "IGRAPH UNW- 19 87 -- \n",
      "+ attr: color (v), label (v), name (v), size (v), color (e), weight (e), width (e)\n"
     ]
    }
   ],
   "source": [
    "#il va falloir enregistrer le mot est sa frequence pour verifier si le mot n'a pas était viré\n",
    "g = graphCos(cosine_Gensim,'../../../../../data/Palmetto/Npmi_for_graphs/npmi_otitis.csv', colorNodeGensim)\n",
    "# plot the graph\n",
    "igraph.summary(g)\n",
    "out = igraph.plot(g, margin= 50, bbox = (700,700))\n",
    "out.save('../../../../../output_Graph/troisiemeversion/Graph_GM_embeddings_otitis.png')"
   ]
  },
  {
   "cell_type": "code",
   "execution_count": 58,
   "metadata": {},
   "outputs": [
    {
     "name": "stdout",
     "output_type": "stream",
     "text": [
      "IGRAPH UNW- 19 87 -- \n",
      "+ attr: color (v), label (v), name (v), size (v), color (e), weight (e), width (e)\n"
     ]
    }
   ],
   "source": [
    "#il va falloir enregistrer le mot est sa frequence pour verifier si le mot n'a pas était viré\n",
    "g = graphCos(cosine_FT,'../../../../../data/Palmetto/Npmi_for_graphs/npmi_otitis.csv', colorNodeFastText)\n",
    "# plot the graph\n",
    "igraph.summary(g)\n",
    "out = igraph.plot(g, margin= 50, bbox = (700,700))\n",
    "out.save('../../../../../output_Graph/troisiemeversion/Graph_FT_embeddings_otitis.png')"
   ]
  },
  {
   "cell_type": "code",
   "execution_count": 59,
   "metadata": {},
   "outputs": [
    {
     "name": "stdout",
     "output_type": "stream",
     "text": [
      "IGRAPH UNW- 20 47 -- \n",
      "+ attr: color (v), label (v), name (v), size (v), color (e), weight (e), width (e)\n"
     ]
    }
   ],
   "source": [
    "#il va falloir enregistrer le mot est sa frequence pour verifier si le mot n'a pas était viré\n",
    "g = graphCos(cosine_PMC,'../../../../../data/Palmetto/Npmi_for_graphs/npmi_otitis.csv', colorNodePMC)\n",
    "# plot the graph\n",
    "igraph.summary(g)\n",
    "out = igraph.plot(g, margin= 50, bbox = (700,700))\n",
    "out.save('../../../../../output_Graph/troisiemeversion/Graph_PMC_embeddings_otitis.png')"
   ]
  },
  {
   "cell_type": "code",
   "execution_count": null,
   "metadata": {},
   "outputs": [],
   "source": []
  }
 ],
 "metadata": {
  "kernelspec": {
   "display_name": "Python 3",
   "language": "python",
   "name": "python3"
  },
  "language_info": {
   "codemirror_mode": {
    "name": "ipython",
    "version": 3
   },
   "file_extension": ".py",
   "mimetype": "text/x-python",
   "name": "python",
   "nbconvert_exporter": "python",
   "pygments_lexer": "ipython3",
   "version": "3.8.1"
  }
 },
 "nbformat": 4,
 "nbformat_minor": 2
}
