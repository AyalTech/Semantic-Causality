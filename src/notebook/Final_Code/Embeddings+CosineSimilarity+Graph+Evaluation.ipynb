{
 "cells": [
  {
   "cell_type": "code",
   "execution_count": 1,
   "metadata": {},
   "outputs": [],
   "source": [
    "from gensim.models import KeyedVectors\n",
    "import csv\n",
    "import pandas as pd\n",
    "from sklearn.metrics.pairwise import cosine_similarity\n",
    "import numpy as np\n",
    "import igraph\n",
    "from gensim.test.utils import datapath"
   ]
  },
  {
   "cell_type": "markdown",
   "metadata": {},
   "source": [
    "### Get The embeddings"
   ]
  },
  {
   "cell_type": "code",
   "execution_count": 2,
   "metadata": {},
   "outputs": [
    {
     "ename": "FileNotFoundError",
     "evalue": "[Errno 2] No such file or directory: '../../../../../data/PMC/wikipedia-pubmed-and-PMC-w2v.bin'",
     "output_type": "error",
     "traceback": [
      "\u001b[0;31m---------------------------------------------------------------------------\u001b[0m",
      "\u001b[0;31mFileNotFoundError\u001b[0m                         Traceback (most recent call last)",
      "\u001b[0;32m<ipython-input-2-adb5bf463327>\u001b[0m in \u001b[0;36m<module>\u001b[0;34m\u001b[0m\n\u001b[0;32m----> 1\u001b[0;31m \u001b[0mwv_from_text_PMC\u001b[0m \u001b[0;34m=\u001b[0m \u001b[0mKeyedVectors\u001b[0m\u001b[0;34m.\u001b[0m\u001b[0mload_word2vec_format\u001b[0m\u001b[0;34m(\u001b[0m\u001b[0;34m\"../../../../../data/PMC/wikipedia-pubmed-and-PMC-w2v.bin\"\u001b[0m\u001b[0;34m,\u001b[0m \u001b[0mbinary\u001b[0m\u001b[0;34m=\u001b[0m\u001b[0;32mTrue\u001b[0m\u001b[0;34m)\u001b[0m\u001b[0;34m\u001b[0m\u001b[0;34m\u001b[0m\u001b[0m\n\u001b[0m\u001b[1;32m      2\u001b[0m \u001b[0mwv_from_text_GV\u001b[0m  \u001b[0;34m=\u001b[0m \u001b[0mKeyedVectors\u001b[0m\u001b[0;34m.\u001b[0m\u001b[0mload_word2vec_format\u001b[0m\u001b[0;34m(\u001b[0m\u001b[0;34m\"../../../../../data/Glove_Gigaword/model.txt\"\u001b[0m\u001b[0;34m,\u001b[0m \u001b[0mbinary\u001b[0m\u001b[0;34m=\u001b[0m\u001b[0;32mFalse\u001b[0m\u001b[0;34m)\u001b[0m\u001b[0;34m\u001b[0m\u001b[0;34m\u001b[0m\u001b[0m\n\u001b[1;32m      3\u001b[0m \u001b[0mwv_from_text_GM\u001b[0m  \u001b[0;34m=\u001b[0m \u001b[0mKeyedVectors\u001b[0m\u001b[0;34m.\u001b[0m\u001b[0mload_word2vec_format\u001b[0m\u001b[0;34m(\u001b[0m\u001b[0;34m\"../../../../../data/Gensim_wiki/model.txt\"\u001b[0m\u001b[0;34m,\u001b[0m \u001b[0mbinary\u001b[0m\u001b[0;34m=\u001b[0m\u001b[0;32mFalse\u001b[0m\u001b[0;34m)\u001b[0m\u001b[0;34m\u001b[0m\u001b[0;34m\u001b[0m\u001b[0m\n\u001b[1;32m      4\u001b[0m \u001b[0mwv_from_text_FT\u001b[0m  \u001b[0;34m=\u001b[0m \u001b[0mKeyedVectors\u001b[0m\u001b[0;34m.\u001b[0m\u001b[0mload_word2vec_format\u001b[0m\u001b[0;34m(\u001b[0m\u001b[0;34m\"../../../../../data/FastText_wiki/model.txt\"\u001b[0m\u001b[0;34m,\u001b[0m \u001b[0mbinary\u001b[0m\u001b[0;34m=\u001b[0m\u001b[0;32mFalse\u001b[0m\u001b[0;34m)\u001b[0m\u001b[0;34m\u001b[0m\u001b[0;34m\u001b[0m\u001b[0m\n",
      "\u001b[0;32m/Library/Frameworks/Python.framework/Versions/3.8/lib/python3.8/site-packages/gensim/models/keyedvectors.py\u001b[0m in \u001b[0;36mload_word2vec_format\u001b[0;34m(cls, fname, fvocab, binary, encoding, unicode_errors, limit, datatype)\u001b[0m\n\u001b[1;32m   1494\u001b[0m         \"\"\"\n\u001b[1;32m   1495\u001b[0m         \u001b[0;31m# from gensim.models.word2vec import load_word2vec_format\u001b[0m\u001b[0;34m\u001b[0m\u001b[0;34m\u001b[0m\u001b[0;34m\u001b[0m\u001b[0m\n\u001b[0;32m-> 1496\u001b[0;31m         return _load_word2vec_format(\n\u001b[0m\u001b[1;32m   1497\u001b[0m             \u001b[0mcls\u001b[0m\u001b[0;34m,\u001b[0m \u001b[0mfname\u001b[0m\u001b[0;34m,\u001b[0m \u001b[0mfvocab\u001b[0m\u001b[0;34m=\u001b[0m\u001b[0mfvocab\u001b[0m\u001b[0;34m,\u001b[0m \u001b[0mbinary\u001b[0m\u001b[0;34m=\u001b[0m\u001b[0mbinary\u001b[0m\u001b[0;34m,\u001b[0m \u001b[0mencoding\u001b[0m\u001b[0;34m=\u001b[0m\u001b[0mencoding\u001b[0m\u001b[0;34m,\u001b[0m \u001b[0municode_errors\u001b[0m\u001b[0;34m=\u001b[0m\u001b[0municode_errors\u001b[0m\u001b[0;34m,\u001b[0m\u001b[0;34m\u001b[0m\u001b[0;34m\u001b[0m\u001b[0m\n\u001b[1;32m   1498\u001b[0m             limit=limit, datatype=datatype)\n",
      "\u001b[0;32m/Library/Frameworks/Python.framework/Versions/3.8/lib/python3.8/site-packages/gensim/models/utils_any2vec.py\u001b[0m in \u001b[0;36m_load_word2vec_format\u001b[0;34m(cls, fname, fvocab, binary, encoding, unicode_errors, limit, datatype)\u001b[0m\n\u001b[1;32m    340\u001b[0m \u001b[0;34m\u001b[0m\u001b[0m\n\u001b[1;32m    341\u001b[0m     \u001b[0mlogger\u001b[0m\u001b[0;34m.\u001b[0m\u001b[0minfo\u001b[0m\u001b[0;34m(\u001b[0m\u001b[0;34m\"loading projection weights from %s\"\u001b[0m\u001b[0;34m,\u001b[0m \u001b[0mfname\u001b[0m\u001b[0;34m)\u001b[0m\u001b[0;34m\u001b[0m\u001b[0;34m\u001b[0m\u001b[0m\n\u001b[0;32m--> 342\u001b[0;31m     \u001b[0;32mwith\u001b[0m \u001b[0mutils\u001b[0m\u001b[0;34m.\u001b[0m\u001b[0mopen\u001b[0m\u001b[0;34m(\u001b[0m\u001b[0mfname\u001b[0m\u001b[0;34m,\u001b[0m \u001b[0;34m'rb'\u001b[0m\u001b[0;34m)\u001b[0m \u001b[0;32mas\u001b[0m \u001b[0mfin\u001b[0m\u001b[0;34m:\u001b[0m\u001b[0;34m\u001b[0m\u001b[0;34m\u001b[0m\u001b[0m\n\u001b[0m\u001b[1;32m    343\u001b[0m         \u001b[0mheader\u001b[0m \u001b[0;34m=\u001b[0m \u001b[0mutils\u001b[0m\u001b[0;34m.\u001b[0m\u001b[0mto_unicode\u001b[0m\u001b[0;34m(\u001b[0m\u001b[0mfin\u001b[0m\u001b[0;34m.\u001b[0m\u001b[0mreadline\u001b[0m\u001b[0;34m(\u001b[0m\u001b[0;34m)\u001b[0m\u001b[0;34m,\u001b[0m \u001b[0mencoding\u001b[0m\u001b[0;34m=\u001b[0m\u001b[0mencoding\u001b[0m\u001b[0;34m)\u001b[0m\u001b[0;34m\u001b[0m\u001b[0;34m\u001b[0m\u001b[0m\n\u001b[1;32m    344\u001b[0m         \u001b[0mvocab_size\u001b[0m\u001b[0;34m,\u001b[0m \u001b[0mvector_size\u001b[0m \u001b[0;34m=\u001b[0m \u001b[0;34m(\u001b[0m\u001b[0mint\u001b[0m\u001b[0;34m(\u001b[0m\u001b[0mx\u001b[0m\u001b[0;34m)\u001b[0m \u001b[0;32mfor\u001b[0m \u001b[0mx\u001b[0m \u001b[0;32min\u001b[0m \u001b[0mheader\u001b[0m\u001b[0;34m.\u001b[0m\u001b[0msplit\u001b[0m\u001b[0;34m(\u001b[0m\u001b[0;34m)\u001b[0m\u001b[0;34m)\u001b[0m  \u001b[0;31m# throws for invalid file format\u001b[0m\u001b[0;34m\u001b[0m\u001b[0;34m\u001b[0m\u001b[0m\n",
      "\u001b[0;32m/Library/Frameworks/Python.framework/Versions/3.8/lib/python3.8/site-packages/smart_open/smart_open_lib.py\u001b[0m in \u001b[0;36mopen\u001b[0;34m(uri, mode, buffering, encoding, errors, newline, closefd, opener, ignore_ext, transport_params)\u001b[0m\n\u001b[1;32m    300\u001b[0m         \u001b[0mtransport_params\u001b[0m \u001b[0;34m=\u001b[0m \u001b[0;34m{\u001b[0m\u001b[0;34m}\u001b[0m\u001b[0;34m\u001b[0m\u001b[0;34m\u001b[0m\u001b[0m\n\u001b[1;32m    301\u001b[0m \u001b[0;34m\u001b[0m\u001b[0m\n\u001b[0;32m--> 302\u001b[0;31m     fobj = _shortcut_open(\n\u001b[0m\u001b[1;32m    303\u001b[0m         \u001b[0muri\u001b[0m\u001b[0;34m,\u001b[0m\u001b[0;34m\u001b[0m\u001b[0;34m\u001b[0m\u001b[0m\n\u001b[1;32m    304\u001b[0m         \u001b[0mmode\u001b[0m\u001b[0;34m,\u001b[0m\u001b[0;34m\u001b[0m\u001b[0;34m\u001b[0m\u001b[0m\n",
      "\u001b[0;32m/Library/Frameworks/Python.framework/Versions/3.8/lib/python3.8/site-packages/smart_open/smart_open_lib.py\u001b[0m in \u001b[0;36m_shortcut_open\u001b[0;34m(uri, mode, ignore_ext, buffering, encoding, errors)\u001b[0m\n\u001b[1;32m    515\u001b[0m     \u001b[0;31m#\u001b[0m\u001b[0;34m\u001b[0m\u001b[0;34m\u001b[0m\u001b[0;34m\u001b[0m\u001b[0m\n\u001b[1;32m    516\u001b[0m     \u001b[0;32mif\u001b[0m \u001b[0msix\u001b[0m\u001b[0;34m.\u001b[0m\u001b[0mPY3\u001b[0m\u001b[0;34m:\u001b[0m\u001b[0;34m\u001b[0m\u001b[0;34m\u001b[0m\u001b[0m\n\u001b[0;32m--> 517\u001b[0;31m         \u001b[0;32mreturn\u001b[0m \u001b[0m_builtin_open\u001b[0m\u001b[0;34m(\u001b[0m\u001b[0mparsed_uri\u001b[0m\u001b[0;34m.\u001b[0m\u001b[0muri_path\u001b[0m\u001b[0;34m,\u001b[0m \u001b[0mmode\u001b[0m\u001b[0;34m,\u001b[0m \u001b[0mbuffering\u001b[0m\u001b[0;34m=\u001b[0m\u001b[0mbuffering\u001b[0m\u001b[0;34m,\u001b[0m \u001b[0;34m**\u001b[0m\u001b[0mopen_kwargs\u001b[0m\u001b[0;34m)\u001b[0m\u001b[0;34m\u001b[0m\u001b[0;34m\u001b[0m\u001b[0m\n\u001b[0m\u001b[1;32m    518\u001b[0m     \u001b[0;32melif\u001b[0m \u001b[0;32mnot\u001b[0m \u001b[0mopen_kwargs\u001b[0m\u001b[0;34m:\u001b[0m\u001b[0;34m\u001b[0m\u001b[0;34m\u001b[0m\u001b[0m\n\u001b[1;32m    519\u001b[0m         \u001b[0;32mreturn\u001b[0m \u001b[0m_builtin_open\u001b[0m\u001b[0;34m(\u001b[0m\u001b[0mparsed_uri\u001b[0m\u001b[0;34m.\u001b[0m\u001b[0muri_path\u001b[0m\u001b[0;34m,\u001b[0m \u001b[0mmode\u001b[0m\u001b[0;34m,\u001b[0m \u001b[0mbuffering\u001b[0m\u001b[0;34m=\u001b[0m\u001b[0mbuffering\u001b[0m\u001b[0;34m)\u001b[0m\u001b[0;34m\u001b[0m\u001b[0;34m\u001b[0m\u001b[0m\n",
      "\u001b[0;31mFileNotFoundError\u001b[0m: [Errno 2] No such file or directory: '../../../../../data/PMC/wikipedia-pubmed-and-PMC-w2v.bin'"
     ]
    }
   ],
   "source": [
    "wv_from_text_PMC = KeyedVectors.load_word2vec_format(\"../../../../../data/PMC/wikipedia-pubmed-and-PMC-w2v.bin\", binary=True)\n",
    "wv_from_text_GV  = KeyedVectors.load_word2vec_format(\"../../../../../data/Glove_Gigaword/model.txt\", binary=False)\n",
    "wv_from_text_GM  = KeyedVectors.load_word2vec_format(\"../../../../../data/Gensim_wiki/model.txt\", binary=False)\n",
    "wv_from_text_FT  = KeyedVectors.load_word2vec_format(\"../../../../../data/FastText_wiki/model.txt\", binary=False)"
   ]
  },
  {
   "cell_type": "code",
   "execution_count": 4,
   "metadata": {},
   "outputs": [],
   "source": [
    "nb_top_terms=20"
   ]
  },
  {
   "cell_type": "markdown",
   "metadata": {},
   "source": [
    "### Cosine for n-top terms with the frequency"
   ]
  },
  {
   "cell_type": "code",
   "execution_count": 15,
   "metadata": {},
   "outputs": [],
   "source": [
    "def cosineSimilarity(f,model):\n",
    "    cr = csv.reader(open(f,\"r\"))\n",
    "    topterms=[]\n",
    "    for row in cr:\n",
    "        topterms=row\n",
    "        break\n",
    "    print(topterms)\n",
    "    newtopterms=['']*nb_top_terms\n",
    "    i=0\n",
    "    for w in topterms:\n",
    "        if (w not in model.vocab):\n",
    "             for v in model.vocab:\n",
    "                if ((w in v)and (w[0]==v[0]) and (w[1]==v[1])):\n",
    "                    newtopterms[i]=v\n",
    "                    #print(newtopterms[i])\n",
    "                    break\n",
    "\n",
    "        else:\n",
    "            newtopterms[i]=w\n",
    "            #print(newtopterms[i])\n",
    "\n",
    "        i=i+1\n",
    "\n",
    "    #print(newtopterms)\n",
    "    terms=[]\n",
    "    for w in newtopterms:\n",
    "        if not(w==''):\n",
    "            terms.append(w)\n",
    "    \n",
    "    print(len(terms))\n",
    "    print(terms)\n",
    "    rows = []\n",
    "\n",
    "    for w in terms:\n",
    "        for ww in terms:\n",
    "            if(w == ww): rows.append(dict(w1=w, w2=ww, d= 0))\n",
    "            else :\n",
    "                rows.append(dict(w1=w, w2=ww, d=model.similarity(w, ww)))\n",
    "    #Compute the cosin similarity matrix \n",
    "    CosineMatrix = pd.DataFrame(rows).pivot(\"w1\", \"w2\", \"d\")\n",
    "    return CosineMatrix"
   ]
  },
  {
   "cell_type": "code",
   "execution_count": 16,
   "metadata": {},
   "outputs": [
    {
     "name": "stdout",
     "output_type": "stream",
     "text": [
      "['macular', 'ey', 'visual', 'retin', 'acuiti', 'month', 'improv', 'diabet', 'neovascular', 'degen', 'signif', 'edema', 'intravitr', 'thick', 'choroid', 'inject', 'measur', 'laser', 'chang', 'outcom']\n",
      "16\n",
      "['macular', 'ey', 'visual', 'retina', 'month', 'improv', 'diabetes', 'degenerate', 'significant', 'edema', 'thick', 'inject', 'measure', 'laser', 'chang', 'outcome']\n",
      "['macular', 'ey', 'visual', 'retin', 'acuiti', 'month', 'improv', 'diabet', 'neovascular', 'degen', 'signif', 'edema', 'intravitr', 'thick', 'choroid', 'inject', 'measur', 'laser', 'chang', 'outcom']\n",
      "18\n",
      "['macular', 'ey', 'visual', 'retina', 'month', 'improv', 'diabetes', 'neovascularization', 'degenerate', 'significant', 'edema', 'thick', 'choroid', 'inject', 'measure', 'laser', 'chang', 'outcome']\n",
      "['macular', 'ey', 'visual', 'retin', 'acuiti', 'month', 'improv', 'diabet', 'neovascular', 'degen', 'signif', 'edema', 'intravitr', 'thick', 'choroid', 'inject', 'measur', 'laser', 'chang', 'outcom']\n",
      "17\n",
      "['macular', 'ey', 'visual', 'retina', 'month', 'improv', 'diabetes', 'degenerate', 'significant', 'edema', 'thick', 'choroid', 'inject', 'measure', 'laser', 'chang', 'outcome']\n",
      "['macular', 'ey', 'visual', 'retin', 'acuiti', 'month', 'improv', 'diabet', 'neovascular', 'degen', 'signif', 'edema', 'intravitr', 'thick', 'choroid', 'inject', 'measur', 'laser', 'chang', 'outcom']\n",
      "20\n",
      "['macular', 'ey', 'visual', 'retin', 'acuities', 'month', 'improv', 'diabet', 'neovascular', 'degen', 'signif', 'edema', 'intravitreal', 'thick', 'choroid', 'inject', 'measur', 'laser', 'chang', 'outcome']\n"
     ]
    }
   ],
   "source": [
    "f=\"../../../../../data/PubMed5/Frequency/top_terms_amd.csv\"\n",
    "cosine_Glove=cosineSimilarity(f,wv_from_text_GV)\n",
    "cosine_Gensim=cosineSimilarity(f,wv_from_text_GM)\n",
    "cosine_FT=cosineSimilarity(f,wv_from_text_FT)\n",
    "cosine_PMC=cosineSimilarity(f,wv_from_text_PMC)"
   ]
  },
  {
   "cell_type": "code",
   "execution_count": 17,
   "metadata": {},
   "outputs": [],
   "source": [
    "\n",
    "def computeCosine2Vec(v,w):\n",
    "    a = np.array(v)\n",
    "    b = np.array(w)\n",
    "    aa = a.reshape(1,len(v))\n",
    "    ba = b.reshape(1,len(v))\n",
    "    cosim = cosine_similarity(aa, ba)\n",
    "    return cosim[0][0]"
   ]
  },
  {
   "cell_type": "code",
   "execution_count": 18,
   "metadata": {},
   "outputs": [],
   "source": [
    "\n",
    "def computeCosineSimilarities(f,model1,model2,model3,model4):\n",
    "    cr = csv.reader(open(f,\"r\"))\n",
    "    for row in cr:\n",
    "        topterms=row\n",
    "        break\n",
    "        \n",
    "    newtopterms=['']*len(topterms)\n",
    "    i=0\n",
    "    for w in topterms:\n",
    "        if(w in model1.vocab)and (w in model2.vocab) and (w in model3.vocab)and (w in model4.vocab):\n",
    "            newtopterms[i]=w\n",
    "            i=i+1\n",
    "        if(w not in model1.vocab):\n",
    "            for v in model1.vocab:\n",
    "                if (w in v)and(w[0]==v[0]):\n",
    "                    if ((v in model2.vocab) and (v in model3.vocab)and (v in model4.vocab)):\n",
    "                        newtopterms[i]=v\n",
    "                        i=i+1\n",
    "                        break\n",
    "\n",
    "    #probleme avec significantli moi je dis on le vire :3\n",
    "    #Compute the cosin similarity matrix     \n",
    "    rows = []\n",
    "    terms=[]\n",
    "    for w in newtopterms:\n",
    "        if not(w==''):\n",
    "            terms.append(w)\n",
    "    \n",
    "    print(len(terms))\n",
    "    print(terms)\n",
    "    \n",
    "    for w in terms:\n",
    "        vect_w=list(model1[w])+list(model2[w])+list(model3[w])+list(model4[w])\n",
    "        for ww in terms:\n",
    "            if(w == ww): rows.append(dict(w1=w, w2=ww, d= 0))\n",
    "            else :\n",
    "                vect_ww= list(model1[ww]) + list(model2[ww]) + list(model3[ww]) + list(model4[ww])\n",
    "                cos=computeCosine2Vec(vect_w,vect_ww)\n",
    "                rows.append(dict(w1=w, w2=ww, d=cos))\n",
    "     \n",
    "    cosindf = pd.DataFrame(rows).pivot(\"w1\", \"w2\", \"d\")\n",
    "    return cosindf"
   ]
  },
  {
   "cell_type": "code",
   "execution_count": 19,
   "metadata": {},
   "outputs": [
    {
     "name": "stdout",
     "output_type": "stream",
     "text": [
      "16\n",
      "['macular', 'ey', 'visual', 'retina', 'month', 'improv', 'diabetes', 'degenerate', 'significant', 'edema', 'thick', 'inject', 'measure', 'laser', 'chang', 'outcome']\n"
     ]
    }
   ],
   "source": [
    "cosine_GV_GM_FT_PMC=computeCosineSimilarities(f,wv_from_text_GV,wv_from_text_GM,wv_from_text_FT,wv_from_text_PMC)"
   ]
  },
  {
   "cell_type": "code",
   "execution_count": 20,
   "metadata": {},
   "outputs": [],
   "source": [
    "#il faudra crée un fichier avec la frequence des tops termes pour les noeuds \n",
    "def graphCos(cosindf,pathfile, color):\n",
    "    #Topterms \n",
    "    vect=cosindf.index\n",
    "    topterms=['']*len(vect)\n",
    "    for i in range(len(vect)):\n",
    "        topterms[i]=vect[i]\n",
    "    \n",
    "    #frequences\n",
    "    frequences=[0]*len(topterms)\n",
    "    i=0\n",
    "    with open(pathfile) as csvDataFile:\n",
    "        csvReader = csv.reader(csvDataFile)\n",
    "        for row in csvReader:\n",
    "            if not(len(row)==0):\n",
    "                #print(row[0])\n",
    "                for v in topterms :\n",
    "                    if(row[0] in v)and(row[0][0]==v[0]):\n",
    "                        frequences[i]=float(row[1])\n",
    "                        #print(frequences[i])\n",
    "                        i=i+1\n",
    "                        break\n",
    "\n",
    "    # Make a graph from the adjacency matrix\n",
    "    g = igraph.Graph.Weighted_Adjacency((cosindf.values > 0.3).tolist(), mode = \"undirected\")\n",
    "\n",
    "    # Set words as vertices label\n",
    "    g.vs[\"name\"] = topterms\n",
    "    g.vs[\"label\"] = g.vs[\"name\"]\n",
    "    g.vs[\"color\"] = color\n",
    "\n",
    "    # Set size as vertices size by frequence of term in documents\n",
    "    size_vertex =frequences \n",
    "    #normalize the vectors\n",
    "    size_vertex_norm = [float(i)/(sum(size_vertex) - size_vertex[0])*800  for i in size_vertex]\n",
    "    g.vs[\"size\"] = size_vertex_norm\n",
    "\n",
    "    # Set cosine similarity as edge width\n",
    "    edge_w = [0]*len(g.get_edgelist())\n",
    "    \n",
    "    for ie, (i,j) in enumerate(g.get_edgelist()):\n",
    "        if i == j:\n",
    "            edge_w[ie] = 0\n",
    "        else:\n",
    "            edge_w[ie] = (cosindf.iloc[i][j] + 2)\n",
    "    edge_w_color = [\"\"]*len(g.get_edgelist())\n",
    "    #il faut trouver un moyen de trouver les intervalles automatiquement\n",
    "    for ie, edge_value in enumerate(edge_w):\n",
    "        if (edge_value > 2.4):\n",
    "            edge_w_color[ie] = \"#126600\" \n",
    "        elif (edge_value > 2.35 and edge_value < 2.4):\n",
    "            edge_w_color[ie] = \"#25cc00\"\n",
    "        else:\n",
    "            edge_w_color[ie] = \"#2eff00\"\n",
    "\n",
    "    g.es[\"weight\"] = edge_w\n",
    "    g.es[\"width\"] = g.es[\"weight\"]\n",
    "    g.es[\"color\"] = edge_w_color\n",
    "\n",
    "    return g"
   ]
  },
  {
   "cell_type": "code",
   "execution_count": 21,
   "metadata": {},
   "outputs": [],
   "source": [
    "# Variables correspondant aux couleurs des noeuds\n",
    "# A modifier si besoin\n",
    "colorNodeEmbeddingBasic = '#fbff28' #jaune\n",
    "colorNodePMC = '#ff0000' #rouge\n",
    "colorNodeGlove = '#287eff' #bleue\n",
    "colorNodeFastText = '#d000f9' #violet\n",
    "colorNodeGensim = '#f2b204' #orange"
   ]
  },
  {
   "cell_type": "code",
   "execution_count": 23,
   "metadata": {},
   "outputs": [
    {
     "name": "stdout",
     "output_type": "stream",
     "text": [
      "IGRAPH UNW- 16 13 -- \n",
      "+ attr: color (v), label (v), name (v), size (v), color (e), weight (e), width (e)\n"
     ]
    }
   ],
   "source": [
    "#il va falloir enregistrer le mot est sa frequence pour verifier si le mot n'a pas était viré\n",
    "g = graphCos(cosine_GV_GM_FT_PMC,'../../../../../data/PubMed5/Frequency/freq_amd.csv', colorNodeEmbeddingBasic)\n",
    "# plot the graph\n",
    "igraph.summary(g)\n",
    "out = igraph.plot(g, margin= 50, bbox = (700,700))\n",
    "out.save('../../../../../output_Graph/deuxiemeversion/Graph_All_embeddings_AMD.png')"
   ]
  },
  {
   "cell_type": "code",
   "execution_count": 24,
   "metadata": {},
   "outputs": [
    {
     "name": "stdout",
     "output_type": "stream",
     "text": [
      "IGRAPH UNW- 16 13 -- \n",
      "+ attr: color (v), label (v), name (v), size (v), color (e), weight (e), width (e)\n"
     ]
    }
   ],
   "source": [
    "#il va falloir enregistrer le mot est sa frequence pour verifier si le mot n'a pas était viré\n",
    "g = graphCos(cosine_GV_GM_FT_PMC,'../../../../../data/PubMed5/Frequency/freq_amd.csv', colorNodeEmbeddingBasic)\n",
    "# plot the graph\n",
    "igraph.summary(g)\n",
    "out = igraph.plot(g, margin= 50, bbox = (700,700))\n",
    "out.save('../../../../../output_Graph/deuxiemeversion/Graph_All_embeddings_AMD.png')"
   ]
  },
  {
   "cell_type": "code",
   "execution_count": 25,
   "metadata": {},
   "outputs": [
    {
     "name": "stdout",
     "output_type": "stream",
     "text": [
      "IGRAPH UNW- 16 13 -- \n",
      "+ attr: color (v), label (v), name (v), size (v), color (e), weight (e), width (e)\n"
     ]
    }
   ],
   "source": [
    "#il va falloir enregistrer le mot est sa frequence pour verifier si le mot n'a pas était viré\n",
    "g = graphCos(cosine_Glove,'../../../../../data/PubMed5/Frequency/freq_amd.csv', colorNodeGlove)\n",
    "# plot the graph\n",
    "igraph.summary(g)\n",
    "out = igraph.plot(g, margin= 50, bbox = (700,700))\n",
    "out.save('../../../../../output_Graph/deuxiemeversion/Graph_GV_embeddings_AMD.png')"
   ]
  },
  {
   "cell_type": "code",
   "execution_count": 26,
   "metadata": {},
   "outputs": [
    {
     "name": "stdout",
     "output_type": "stream",
     "text": [
      "IGRAPH UNW- 18 35 -- \n",
      "+ attr: color (v), label (v), name (v), size (v), color (e), weight (e), width (e)\n"
     ]
    }
   ],
   "source": [
    "#il va falloir enregistrer le mot est sa frequence pour verifier si le mot n'a pas était viré\n",
    "g = graphCos(cosine_Gensim,'../../../../../data/PubMed5/Frequency/freq_amd.csv', colorNodeGensim)\n",
    "# plot the graph\n",
    "igraph.summary(g)\n",
    "out = igraph.plot(g, margin= 50, bbox = (700,700))\n",
    "out.save('../../../../../output_Graph/deuxiemeversion/Graph_GM_embeddings_AMD.png')"
   ]
  },
  {
   "cell_type": "code",
   "execution_count": 27,
   "metadata": {},
   "outputs": [
    {
     "name": "stdout",
     "output_type": "stream",
     "text": [
      "IGRAPH UNW- 17 22 -- \n",
      "+ attr: color (v), label (v), name (v), size (v), color (e), weight (e), width (e)\n"
     ]
    }
   ],
   "source": [
    "#il va falloir enregistrer le mot est sa frequence pour verifier si le mot n'a pas était viré\n",
    "g = graphCos(cosine_FT,'../../../../../data/PubMed5/Frequency/freq_amd.csv', colorNodeFastText)\n",
    "# plot the graph\n",
    "igraph.summary(g)\n",
    "out = igraph.plot(g, margin= 50, bbox = (700,700))\n",
    "out.save('../../../../../output_Graph/deuxiemeversion/Graph_FT_embeddings_AMD.png')"
   ]
  },
  {
   "cell_type": "code",
   "execution_count": 28,
   "metadata": {},
   "outputs": [
    {
     "name": "stdout",
     "output_type": "stream",
     "text": [
      "IGRAPH UNW- 20 18 -- \n",
      "+ attr: color (v), label (v), name (v), size (v), color (e), weight (e), width (e)\n"
     ]
    }
   ],
   "source": [
    "#il va falloir enregistrer le mot est sa frequence pour verifier si le mot n'a pas était viré\n",
    "g = graphCos(cosine_PMC,'../../../../../data/PubMed5/Frequency/freq_amd.csv', colorNodePMC)\n",
    "# plot the graph\n",
    "igraph.summary(g)\n",
    "out = igraph.plot(g, margin= 50, bbox = (700,700))\n",
    "out.save('../../../../../output_Graph/deuxiemeversion/Graph_PMC_embeddings_AMD.png')"
   ]
  },
  {
   "cell_type": "code",
   "execution_count": 29,
   "metadata": {},
   "outputs": [
    {
     "data": {
      "text/html": [
       "<div>\n",
       "<style scoped>\n",
       "    .dataframe tbody tr th:only-of-type {\n",
       "        vertical-align: middle;\n",
       "    }\n",
       "\n",
       "    .dataframe tbody tr th {\n",
       "        vertical-align: top;\n",
       "    }\n",
       "\n",
       "    .dataframe thead th {\n",
       "        text-align: right;\n",
       "    }\n",
       "</style>\n",
       "<table border=\"1\" class=\"dataframe\">\n",
       "  <thead>\n",
       "    <tr style=\"text-align: right;\">\n",
       "      <th></th>\n",
       "      <th>Glove</th>\n",
       "      <th>Gensim</th>\n",
       "      <th>FastText</th>\n",
       "      <th>PMC</th>\n",
       "    </tr>\n",
       "  </thead>\n",
       "  <tbody>\n",
       "    <tr>\n",
       "      <th>wordsim353</th>\n",
       "      <td>0.555504</td>\n",
       "      <td>0.673403</td>\n",
       "      <td>0.672899</td>\n",
       "      <td>0.529629</td>\n",
       "    </tr>\n",
       "  </tbody>\n",
       "</table>\n",
       "</div>"
      ],
      "text/plain": [
       "               Glove    Gensim  FastText       PMC\n",
       "wordsim353  0.555504  0.673403  0.672899  0.529629"
      ]
     },
     "execution_count": 29,
     "metadata": {},
     "output_type": "execute_result"
    }
   ],
   "source": [
    "fichiersimilarite='wordsim353.tsv'\n",
    "index=[\"wordsim353\"]\n",
    "\n",
    "similaritie_GV = wv_from_text_GV.evaluate_word_pairs(datapath(fichiersimilarite))\n",
    "similaritie_GM = wv_from_text_GM.evaluate_word_pairs(datapath(fichiersimilarite))\n",
    "similaritie_FT = wv_from_text_FT.evaluate_word_pairs(datapath(fichiersimilarite))\n",
    "similaritie_PM = wv_from_text_PMC.evaluate_word_pairs(datapath(fichiersimilarite))\n",
    "    \n",
    "d =  {'Glove':similaritie_GV[1][0] ,'Gensim': similaritie_GM[1][0] , 'FastText': similaritie_FT[1][0] , 'PMC' :similaritie_PM[1][0]}\n",
    "df_wordsim = pd.DataFrame(data=d,index=index)\n",
    "df_wordsim"
   ]
  },
  {
   "cell_type": "code",
   "execution_count": 33,
   "metadata": {},
   "outputs": [
    {
     "data": {
      "text/html": [
       "<div>\n",
       "<style scoped>\n",
       "    .dataframe tbody tr th:only-of-type {\n",
       "        vertical-align: middle;\n",
       "    }\n",
       "\n",
       "    .dataframe tbody tr th {\n",
       "        vertical-align: top;\n",
       "    }\n",
       "\n",
       "    .dataframe thead th {\n",
       "        text-align: right;\n",
       "    }\n",
       "</style>\n",
       "<table border=\"1\" class=\"dataframe\">\n",
       "  <thead>\n",
       "    <tr style=\"text-align: right;\">\n",
       "      <th></th>\n",
       "      <th>Glove</th>\n",
       "      <th>Gensim</th>\n",
       "      <th>FastText</th>\n",
       "      <th>PMC</th>\n",
       "    </tr>\n",
       "  </thead>\n",
       "  <tbody>\n",
       "    <tr>\n",
       "      <th>wordsim_relatedness_goldstandard</th>\n",
       "      <td>0.535715</td>\n",
       "      <td>0.61602</td>\n",
       "      <td>0.634231</td>\n",
       "      <td>0.540422</td>\n",
       "    </tr>\n",
       "  </tbody>\n",
       "</table>\n",
       "</div>"
      ],
      "text/plain": [
       "                                     Glove   Gensim  FastText       PMC\n",
       "wordsim_relatedness_goldstandard  0.535715  0.61602  0.634231  0.540422"
      ]
     },
     "execution_count": 33,
     "metadata": {},
     "output_type": "execute_result"
    }
   ],
   "source": [
    "f=\"../../../../../data/eval_files/wordsim_relatedness_goldstandard.txt\"\n",
    "similaritie_GV = wv_from_text_GV.evaluate_word_pairs(f)\n",
    "similaritie_GM = wv_from_text_GM.evaluate_word_pairs(f)\n",
    "similaritie_FT = wv_from_text_FT.evaluate_word_pairs(f)\n",
    "similaritie_PM = wv_from_text_PMC.evaluate_word_pairs(f)\n",
    "\n",
    "d =  {'Glove': similaritie_GV[1][0] ,'Gensim': similaritie_GM[1][0] , 'FastText': similaritie_FT[1][0] , 'PMC' :similaritie_PM[1][0]}\n",
    "df_wordsim_similarity_goldstandard = pd.DataFrame(data=d,index=[\"wordsim_relatedness_goldstandard\"])\n",
    "df_wordsim_similarity_goldstandard"
   ]
  },
  {
   "cell_type": "code",
   "execution_count": 31,
   "metadata": {},
   "outputs": [
    {
     "data": {
      "text/html": [
       "<div>\n",
       "<style scoped>\n",
       "    .dataframe tbody tr th:only-of-type {\n",
       "        vertical-align: middle;\n",
       "    }\n",
       "\n",
       "    .dataframe tbody tr th {\n",
       "        vertical-align: top;\n",
       "    }\n",
       "\n",
       "    .dataframe thead th {\n",
       "        text-align: right;\n",
       "    }\n",
       "</style>\n",
       "<table border=\"1\" class=\"dataframe\">\n",
       "  <thead>\n",
       "    <tr style=\"text-align: right;\">\n",
       "      <th></th>\n",
       "      <th>Glove</th>\n",
       "      <th>Gensim</th>\n",
       "      <th>FastText</th>\n",
       "      <th>PMC</th>\n",
       "    </tr>\n",
       "  </thead>\n",
       "  <tbody>\n",
       "    <tr>\n",
       "      <th>wordsim_similarity_goldstandard</th>\n",
       "      <td>0.589795</td>\n",
       "      <td>0.708539</td>\n",
       "      <td>0.696419</td>\n",
       "      <td>0.540508</td>\n",
       "    </tr>\n",
       "  </tbody>\n",
       "</table>\n",
       "</div>"
      ],
      "text/plain": [
       "                                    Glove    Gensim  FastText       PMC\n",
       "wordsim_similarity_goldstandard  0.589795  0.708539  0.696419  0.540508"
      ]
     },
     "execution_count": 31,
     "metadata": {},
     "output_type": "execute_result"
    }
   ],
   "source": [
    "f=\"../../../../../data/eval_files/wordsim_similarity_goldstandard.txt\"\n",
    "similaritie_GV = wv_from_text_GV.evaluate_word_pairs(f)\n",
    "similaritie_GM = wv_from_text_GM.evaluate_word_pairs(f)\n",
    "similaritie_FT = wv_from_text_FT.evaluate_word_pairs(f)\n",
    "similaritie_PM = wv_from_text_PMC.evaluate_word_pairs(f)\n",
    "\n",
    "d =  {'Glove': similaritie_GV[1][0] ,'Gensim': similaritie_GM[1][0] , 'FastText': similaritie_FT[1][0] , 'PMC' :similaritie_PM[1][0]}\n",
    "df_wordsim_similarity_goldstandard = pd.DataFrame(data=d,index=[\"wordsim_similarity_goldstandard\"])\n",
    "df_wordsim_similarity_goldstandard"
   ]
  },
  {
   "cell_type": "code",
   "execution_count": 34,
   "metadata": {},
   "outputs": [],
   "source": [
    "def csv_to_eval_file1(f_input,f_output):\n",
    "    df_eval=pd.read_csv(f_input)\n",
    "    del df_eval['CUI1']\n",
    "    del df_eval['CUI2']\n",
    "    df_eval = df_eval[['TERM1', 'TERM2', 'Mean']]\n",
    "    df_eval.to_csv(f_output,sep='\\t',index=False)"
   ]
  },
  {
   "cell_type": "code",
   "execution_count": 35,
   "metadata": {},
   "outputs": [],
   "source": [
    "def csv_to_eval_file2(f_input,f_output):\n",
    "    df_eval=pd.read_csv(f_input)\n",
    "    del df_eval['CUI1']\n",
    "    del df_eval['CUI2']\n",
    "    del df_eval ['Stdev']\n",
    "    df_eval = df_eval[['Term1', 'Term2', 'Mean']]\n",
    "    df_eval.to_csv(f_output,sep='\\t',index=False)"
   ]
  },
  {
   "cell_type": "code",
   "execution_count": 36,
   "metadata": {},
   "outputs": [],
   "source": [
    "f_input_MSRS=\"../../../../../data/eval_files_BioMed/Input/MayoSRS.csv\"\n",
    "f_output_MSRS=\"../../../../../data/eval_files_BioMed/Output/MayoSRS.csv\"\n",
    "csv_to_eval_file1(f_input_MSRS,f_output_MSRS)\n",
    "similaritie_PM_MSRS = wv_from_text_PMC.evaluate_word_pairs(f_output_MSRS)"
   ]
  },
  {
   "cell_type": "code",
   "execution_count": 38,
   "metadata": {},
   "outputs": [],
   "source": [
    "f_input_UMNSRS_rel=\"../../../../../data/eval_files_BioMed/Input/UMNSRS_relatedness.csv\"\n",
    "f_output_UMNSRS_rel=\"../../../../../data/eval_files_BioMed/Output/UMNSRS_relatedness.csv\"\n",
    "#csv_to_eval_file2(f_input_UMNSRS_rel,f_output_UMNSRS_rel)\n",
    "df_eval=pd.read_csv(f_input_UMNSRS_rel)\n",
    "del df_eval['CUI1']\n",
    "del df_eval['CUI2']\n",
    "del df_eval ['Stdev']\n",
    "df_eval = df_eval[['Term1', 'Term2', 'Mean']]\n",
    "df_eval.to_csv(\"../../../../../data/eval_files_BioMed/Output/UMNSRS_relatedness.csv\",sep='\\t',index=False)\n",
    "similaritie_PM_UMNSRS_rel = wv_from_text_PMC.evaluate_word_pairs(\"../../../../../data/eval_files_BioMed/Output/UMNSRS_relatedness.csv\")"
   ]
  },
  {
   "cell_type": "code",
   "execution_count": 39,
   "metadata": {},
   "outputs": [],
   "source": [
    "f_input_UMNSRS_sim=\"../../../../../data/eval_files_BioMed/Input/UMNSRS_similarity.csv\"\n",
    "f_output_UMNSRS_sim=\"../../../../../data/eval_files_BioMed/Output/UMNSRS_similarity.csv\"\n",
    "#csv_to_eval_file2(f_input_UMNSRS_sim,f_output_UMNSRS_sim)\n",
    "df_eval=pd.read_csv(\"../../../../../data/eval_files_BioMed/Input/UMNSRS_similarity.csv\")\n",
    "del df_eval['CUI1']\n",
    "del df_eval['CUI2']\n",
    "del df_eval ['Stdev']\n",
    "df_eval = df_eval[['Term1', 'Term2', 'Mean']]\n",
    "df_eval.to_csv(\"../../../../../data/eval_files_BioMed/Output/UMNSRS_similarity.csv\",sep='\\t',index=False)\n",
    "similaritie_PM_UMNSRS_sim = wv_from_text_PMC.evaluate_word_pairs(\"../../../../../data/eval_files_BioMed/Output/UMNSRS_similarity.csv\")\n"
   ]
  },
  {
   "cell_type": "code",
   "execution_count": 40,
   "metadata": {},
   "outputs": [],
   "source": [
    "d =  {'MayoSRS': similaritie_PM_MSRS[1][0] ,'UMNSRS_relatedness': similaritie_PM_UMNSRS_rel[1][0] , 'UMNSRS_similarity': similaritie_PM_UMNSRS_sim[1][0]}\n",
    "df_PMC = pd.DataFrame(data=d,index=[\"PubMed Central\"])"
   ]
  },
  {
   "cell_type": "code",
   "execution_count": 41,
   "metadata": {},
   "outputs": [
    {
     "data": {
      "text/html": [
       "<div>\n",
       "<style scoped>\n",
       "    .dataframe tbody tr th:only-of-type {\n",
       "        vertical-align: middle;\n",
       "    }\n",
       "\n",
       "    .dataframe tbody tr th {\n",
       "        vertical-align: top;\n",
       "    }\n",
       "\n",
       "    .dataframe thead th {\n",
       "        text-align: right;\n",
       "    }\n",
       "</style>\n",
       "<table border=\"1\" class=\"dataframe\">\n",
       "  <thead>\n",
       "    <tr style=\"text-align: right;\">\n",
       "      <th></th>\n",
       "      <th>MayoSRS</th>\n",
       "      <th>UMNSRS_relatedness</th>\n",
       "      <th>UMNSRS_similarity</th>\n",
       "    </tr>\n",
       "  </thead>\n",
       "  <tbody>\n",
       "    <tr>\n",
       "      <th>PubMed Central</th>\n",
       "      <td>0.395553</td>\n",
       "      <td>0.501167</td>\n",
       "      <td>0.560862</td>\n",
       "    </tr>\n",
       "  </tbody>\n",
       "</table>\n",
       "</div>"
      ],
      "text/plain": [
       "                 MayoSRS  UMNSRS_relatedness  UMNSRS_similarity\n",
       "PubMed Central  0.395553            0.501167           0.560862"
      ]
     },
     "execution_count": 41,
     "metadata": {},
     "output_type": "execute_result"
    }
   ],
   "source": [
    "df_PMC"
   ]
  },
  {
   "cell_type": "code",
   "execution_count": null,
   "metadata": {},
   "outputs": [],
   "source": []
  }
 ],
 "metadata": {
  "kernelspec": {
   "display_name": "Python 3",
   "language": "python",
   "name": "python3"
  },
  "language_info": {
   "codemirror_mode": {
    "name": "ipython",
    "version": 3
   },
   "file_extension": ".py",
   "mimetype": "text/x-python",
   "name": "python",
   "nbconvert_exporter": "python",
   "pygments_lexer": "ipython3",
   "version": "3.8.1"
  }
 },
 "nbformat": 4,
 "nbformat_minor": 2
}
