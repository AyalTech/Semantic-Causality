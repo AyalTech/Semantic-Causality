{
 "cells": [
  {
   "cell_type": "code",
   "execution_count": 4,
   "metadata": {},
   "outputs": [
    {
     "name": "stdout",
     "output_type": "stream",
     "text": [
      "Treatment-related mortality is common among children with acute lymphoblastic leukemia (ALL) treated in poor-resource settings. We applied a simplified flow-cytometric assay to identify patients with precursor B-cell ALL (B-ALL) at very low risk (VLR) of relapse and treated them with a reduced-intensity treatment plan (RELLA05). VLR criteria include favorable presenting features (age â‰¥1 and <10 years), white blood cell (WBC) count of <50â€‰Ã—â€‰109/L, lack of extramedullary leukemia, and minimal residual disease (MRD) levels of <0.01% on remission induction day 19. Except for two doses of daunorubicin, treatment for patients with VLR B-ALL consisted of a combination of agents with a relatively low myelotoxicity profile, including corticosteroids, vincristine, L-asparaginase, methotrexate, and 6-mercaptopurine. Cyclophosphamide, systemic cytarabine, and CNS radiotherapy were not used. Of 454 patients with ALL treated at the Instituto de Medicina Integral Fernando Figueira in Recife, Brazil, between December 2005 and June 2015, 101 were classified as having VLR B-ALL. There were no cases of toxic death or treatment abandonment during remission induction. At a median follow-up of 6.6 years, there were eight major adverse events: six relapses, one treatment-related death (from septicemia) during remission, and one secondary myeloid leukemia. The estimated 5-year event-free and overall survival rates were 92.0%â€‰Â±â€‰3.9% and 96.0%â€‰Â±â€‰2.8%, respectively. The 5-year cumulative risk of relapse was 4.24%â€‰Â±â€‰2.0%. The treatment was well tolerated. Episodes of neutropenia were of short duration. Patients with B-ALL selected by a combination of presenting features and the degree of early response can be successfully treated with a mildly myelosuppressive chemotherapy regimen.\n"
     ]
    }
   ],
   "source": [
    "fichier=open(\"Causalite semantique pour corpus de document/Leukemia1.txt\",\"r\")\n",
    "print(fichier.read())\n",
    "fichier.close()"
   ]
  },
  {
   "cell_type": "code",
   "execution_count": 2,
   "metadata": {},
   "outputs": [
    {
     "name": "stdout",
     "output_type": "stream",
     "text": [
      "['God', 'is', 'Great', '!', 'I', 'won', 'a', 'lottery', '.']\n"
     ]
    }
   ],
   "source": [
    "import nltk\n",
    "from nltk.tokenize import word_tokenize\n",
    "text = \"God is Great! I won a lottery.\"\n",
    "print(word_tokenize(text))\n"
   ]
  },
  {
   "cell_type": "code",
   "execution_count": 12,
   "metadata": {},
   "outputs": [
    {
     "name": "stdout",
     "output_type": "stream",
     "text": [
      "['Adult', 'T-cell', 'leukemia/lymphoma', 'ATL', 'aggressive', 'T-cell', 'neoplasm', 'poor', 'prognosis', 'develops', 'chronic', 'infection', 'human', 'T-cell', 'leukemia', 'virus', 'type', '1', 'HTLV-1', 'Although', 'AMP-activated', 'protein', 'kinase', 'AMPK', 'critical', 'cellular', 'energy', 'sensor', 'recently', 'become', 'clear', 'AMPK', 'act', 'tumor', 'regulator', 'Here', 'assessed', 'expression', 'AMPK', 'primary', 'ATL', 'cells', 'effects', 'dorsomorphin', 'AMPK', 'inhibitor', 'primary', 'ATL', 'cells', 'HTLV-1-infected', 'T-cell', 'lines', 'AMPK', 'expression', 'acute', 'chronic', 'ATL', 'patients', 'significantly', 'higher', 'asymptomatic', 'HTLV-1', 'carriers', 'healthy', 'donors', 'Dorsomorphin', 'induced', 'apoptosis', 'peripheral', 'blood', 'mononuclear', 'cells', 'ATL', 'patients', 'Dorsomorphin', 'also', 'induced', 'dose-', 'time-dependent', 'apoptosis', 'HTLV-1-infected', 'T-cell', 'lines', 'Dorsomorphin', 'increased', 'production', 'intracellular', 'reactive', 'oxygen', 'species', 'ROS', 'induced', 'ataxia', 'telangiectasia', 'mutated', 'Ser1981', 'phosphorylation', 'p53', 'accumulation', 'These', 'results', 'indicated', 'dorsomorphin', 'induces', 'apoptosis', 'via', 'ROS-mediated', 'DNA', 'damage', 'HTLV-1-infected', 'T-cell', 'lines', 'Furthermore', 'dorsomorphin', 'suppressed', 'growth', 'human', 'ATL', 'tumor', 'xenografts', 'NOD/SCID', 'mice', 'Together', 'data', 'suggest', 'AMPK', 'could', 'candidate', 'therapeutic', 'target', 'ATL', 'dorsomorphin', 'could', 'therapeutic', 'agent', 'ATL']\n"
     ]
    }
   ],
   "source": [
    "from nltk.corpus import stopwords\n",
    "fichier=open(\"Causalite semantique pour corpus de document/Leukemia2.txt\",\"r\")\n",
    "stop = set(stopwords.words('english'))\n",
    "stop.update(['.', ',', '\"', \"'\", '?', '!', ':', ';', '(', ')', '[', ']', '{', '}'])\n",
    "tokens = word_tokenize(fichier.read())\n",
    "tokens = [w for w in tokens if not w in stop]\n",
    "print(tokens)\n",
    "fichier.close()"
   ]
  },
  {
   "cell_type": "code",
   "execution_count": 15,
   "metadata": {},
   "outputs": [
    {
     "name": "stdout",
     "output_type": "stream",
     "text": [
      "['and', 'document', 'first', 'is', 'one', 'second', 'the', 'third', 'this']\n",
      "[[0 1 1 1 0 0 1 0 1]\n",
      " [0 2 0 1 0 1 1 0 1]\n",
      " [1 0 0 1 1 0 1 1 1]\n",
      " [0 1 1 1 0 0 1 0 1]]\n"
     ]
    }
   ],
   "source": [
    "from sklearn.feature_extraction.text import CountVectorizer\n",
    "corpus = ['This is the first document.','This document is the second document.','And this is the third one.','Is this the first document?']\n",
    "vectorizer = CountVectorizer()\n",
    "X = vectorizer.fit_transform(corpus)\n",
    "print(vectorizer.get_feature_names())\n",
    "print(X.toarray())"
   ]
  },
  {
   "cell_type": "code",
   "execution_count": 1,
   "metadata": {},
   "outputs": [
    {
     "data": {
      "text/plain": [
       "array([1.        , 1.22314355, 1.51082562, 1.        , 1.91629073,\n",
       "       1.        , 1.91629073, 1.91629073])"
      ]
     },
     "execution_count": 1,
     "metadata": {},
     "output_type": "execute_result"
    }
   ],
   "source": [
    "from sklearn.feature_extraction.text import TfidfTransformer\n",
    "from sklearn.feature_extraction.text import CountVectorizer\n",
    "from sklearn.pipeline import Pipeline\n",
    "import numpy as np\n",
    "corpus = ['this is the first document',\n",
    "          'this document is the second document',\n",
    "          'and this is the third one',\n",
    "          'is this the first document']\n",
    "vocabulary = ['this', 'document', 'first', 'is', 'second', 'the',\n",
    "              'and', 'one']\n",
    "pipe = Pipeline([('count', CountVectorizer(vocabulary=vocabulary)),\n",
    "                 ('tfid', TfidfTransformer())]).fit(corpus)\n",
    "pipe['count'].transform(corpus).toarray()\n",
    "\n",
    "\n",
    "\n",
    "\n",
    "pipe['tfid'].idf_\n",
    "\n",
    "\n",
    "#pipe.transform(corpus).shape"
   ]
  },
  {
   "cell_type": "code",
   "execution_count": null,
   "metadata": {},
   "outputs": [],
   "source": []
  }
 ],
 "metadata": {
  "kernelspec": {
   "display_name": "Python 3",
   "language": "python",
   "name": "python3"
  },
  "language_info": {
   "codemirror_mode": {
    "name": "ipython",
    "version": 3
   },
   "file_extension": ".py",
   "mimetype": "text/x-python",
   "name": "python",
   "nbconvert_exporter": "python",
   "pygments_lexer": "ipython3",
   "version": "3.7.4"
  }
 },
 "nbformat": 4,
 "nbformat_minor": 2
}
